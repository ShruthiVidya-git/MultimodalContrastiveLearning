{
  "cells": [
    {
      "cell_type": "markdown",
      "metadata": {
        "id": "view-in-github",
        "colab_type": "text"
      },
      "source": [
        "<a href=\"https://colab.research.google.com/github/ShruthiVidya-git/MultimodalContrastiveLearning/blob/main/Gloria-VIT/Inference_time.ipynb\" target=\"_parent\"><img src=\"https://colab.research.google.com/assets/colab-badge.svg\" alt=\"Open In Colab\"/></a>"
      ]
    },
    {
      "cell_type": "code",
      "source": [
        "!pip install transformers"
      ],
      "metadata": {
        "colab": {
          "base_uri": "https://localhost:8080/"
        },
        "id": "vzlWAszYkVki",
        "outputId": "28b91a74-88c5-4063-aedb-d8a48d2c6335"
      },
      "execution_count": null,
      "outputs": [
        {
          "output_type": "stream",
          "name": "stdout",
          "text": [
            "Looking in indexes: https://pypi.org/simple, https://us-python.pkg.dev/colab-wheels/public/simple/\n",
            "Requirement already satisfied: transformers in /usr/local/lib/python3.7/dist-packages (4.21.1)\n",
            "Requirement already satisfied: filelock in /usr/local/lib/python3.7/dist-packages (from transformers) (3.8.0)\n",
            "Requirement already satisfied: regex!=2019.12.17 in /usr/local/lib/python3.7/dist-packages (from transformers) (2022.6.2)\n",
            "Requirement already satisfied: packaging>=20.0 in /usr/local/lib/python3.7/dist-packages (from transformers) (21.3)\n",
            "Requirement already satisfied: tqdm>=4.27 in /usr/local/lib/python3.7/dist-packages (from transformers) (4.64.0)\n",
            "Requirement already satisfied: importlib-metadata in /usr/local/lib/python3.7/dist-packages (from transformers) (4.12.0)\n",
            "Requirement already satisfied: pyyaml>=5.1 in /usr/local/lib/python3.7/dist-packages (from transformers) (6.0)\n",
            "Requirement already satisfied: tokenizers!=0.11.3,<0.13,>=0.11.1 in /usr/local/lib/python3.7/dist-packages (from transformers) (0.12.1)\n",
            "Requirement already satisfied: huggingface-hub<1.0,>=0.1.0 in /usr/local/lib/python3.7/dist-packages (from transformers) (0.9.0)\n",
            "Requirement already satisfied: requests in /usr/local/lib/python3.7/dist-packages (from transformers) (2.23.0)\n",
            "Requirement already satisfied: numpy>=1.17 in /usr/local/lib/python3.7/dist-packages (from transformers) (1.21.6)\n",
            "Requirement already satisfied: typing-extensions>=3.7.4.3 in /usr/local/lib/python3.7/dist-packages (from huggingface-hub<1.0,>=0.1.0->transformers) (4.1.1)\n",
            "Requirement already satisfied: pyparsing!=3.0.5,>=2.0.2 in /usr/local/lib/python3.7/dist-packages (from packaging>=20.0->transformers) (3.0.9)\n",
            "Requirement already satisfied: zipp>=0.5 in /usr/local/lib/python3.7/dist-packages (from importlib-metadata->transformers) (3.8.1)\n",
            "Requirement already satisfied: urllib3!=1.25.0,!=1.25.1,<1.26,>=1.21.1 in /usr/local/lib/python3.7/dist-packages (from requests->transformers) (1.24.3)\n",
            "Requirement already satisfied: idna<3,>=2.5 in /usr/local/lib/python3.7/dist-packages (from requests->transformers) (2.10)\n",
            "Requirement already satisfied: certifi>=2017.4.17 in /usr/local/lib/python3.7/dist-packages (from requests->transformers) (2022.6.15)\n",
            "Requirement already satisfied: chardet<4,>=3.0.2 in /usr/local/lib/python3.7/dist-packages (from requests->transformers) (3.0.4)\n"
          ]
        }
      ]
    },
    {
      "cell_type": "code",
      "execution_count": null,
      "metadata": {
        "colab": {
          "base_uri": "https://localhost:8080/"
        },
        "id": "MJgybCzJVGXG",
        "outputId": "9c06c28c-8461-4d62-c069-d1330cbd2912"
      },
      "outputs": [
        {
          "output_type": "stream",
          "name": "stdout",
          "text": [
            "Drive already mounted at /content/drive; to attempt to forcibly remount, call drive.mount(\"/content/drive\", force_remount=True).\n",
            "Drive already mounted at /content/drive/; to attempt to forcibly remount, call drive.mount(\"/content/drive/\", force_remount=True).\n",
            "Drive already mounted at /content/drive/; to attempt to forcibly remount, call drive.mount(\"/content/drive/\", force_remount=True).\n",
            "Drive already mounted at /content/drive; to attempt to forcibly remount, call drive.mount(\"/content/drive\", force_remount=True).\n"
          ]
        }
      ],
      "source": [
        "# Import all the required modules\n",
        "from google.colab import drive\n",
        "drive.mount('/content/drive')\n",
        "\n",
        "import torch, torch.nn as nn, cv2, numpy as np, pickle, os, re, tqdm, random, sys, pandas as pd\n",
        "from sklearn.metrics import confusion_matrix\n",
        "from sklearn.metrics import classification_report\n",
        "from sklearn.metrics import roc_curve\n",
        "from sklearn.metrics import auc\n",
        "\n",
        "import matplotlib.pyplot as plt\n",
        "\n",
        "sys.path.insert(0,'/content/drive/MyDrive/Summer_Project-ECE_697/src_code/Models/')\n",
        "import gloria_model\n",
        "from gloria_model import Gloria\n",
        "\n",
        "import vit\n",
        "from vit import VisionTransformer\n",
        "\n",
        "sys.path.insert(0,'/content/drive/MyDrive/Summer_Project-ECE_697/src_code/Inference/')\n",
        "import similarities\n",
        "\n",
        "sys.path.insert(0,'/content/drive/MyDrive/Summer_Project-ECE_697/ConVIRT Pytorch')\n",
        "from model import ModelCLR"
      ]
    },
    {
      "cell_type": "code",
      "execution_count": null,
      "metadata": {
        "id": "ItwSQTpBVKqC"
      },
      "outputs": [],
      "source": [
        "def _get_batch_tensors(df):\n",
        "    \"\"\"\n",
        "    Get batches of image and text tensors\n",
        "    \"\"\"\n",
        "    img_paths = list(df['img_emd'])\n",
        "    \n",
        "    img_tensors = []\n",
        "    paths = []\n",
        "    for idx in range(len(df)):\n",
        "        # read batch of 25 image tensors\n",
        "        with open(img_paths[idx], 'rb') as f:\n",
        "            img_tensor = pickle.load(f)\n",
        "        tensor_out = tensor_reshape(img_tensor)\n",
        "\n",
        "        img_tensors.append(tensor_out)\n",
        "        paths.append(img_paths[idx].split('/tensor_image/')[1].split('.pickle')[0].replace('_', '/'))\n",
        "    img = torch.stack(img_tensors).squeeze()\n",
        "\n",
        "    return img, paths\n",
        "\n",
        "def tensor_reshape(img_tensor):\n",
        "\n",
        "    if img_tensor.shape[2] != 256:\n",
        "        tensor_out = nn.functional.pad(input=img_tensor, pad=(0, 0, 1,0) , mode='constant', value=0)\n",
        "        return tensor_out\n",
        "\n",
        "    elif img_tensor.shape[3] != 256:\n",
        "        tensor_out = nn.functional.pad(input=img_tensor, pad=(0, 1, 0,0) , mode='constant', value=0)\n",
        "        return tensor_out\n",
        "\n",
        "    return img_tensor\n"
      ]
    },
    {
      "cell_type": "code",
      "source": [
        "# Get the prompt embeddings\n",
        "embed_captions = \"/content/drive/MyDrive/Summer_Project-ECE_697/src_code/checkpoints/captions_local_global_6_classes.pickle\"\n",
        "with open(embed_captions, \"rb\") as f:\n",
        "    embed = pickle.load(f)\n",
        "\n",
        "# get the local global and caption lens of prompts    \n",
        "text_emb_l = embed['local_embed']\n",
        "text_emb_g = embed['global_embed']\n",
        "cap_lens = embed['cap_lens_avg']"
      ],
      "metadata": {
        "id": "ioA7kFWIBcZ-"
      },
      "execution_count": null,
      "outputs": []
    },
    {
      "cell_type": "code",
      "source": [
        "# read csv with 5 classes\n",
        "data_path = '/content/drive/MyDrive/Summer_Project-ECE_697/src_code/Inference/multi_class_data.csv'\n",
        "data_5_classes = pd.read_csv(data_path)"
      ],
      "metadata": {
        "id": "Qi6ewX7GBcnh"
      },
      "execution_count": null,
      "outputs": []
    },
    {
      "cell_type": "code",
      "source": [
        "# define the 5 classes for classification\n",
        "classes = list(data_5_classes.columns)[-5:]\n",
        "\n",
        "# define the ground truth from csv\n",
        "class5_temp = data_5_classes.iloc[:,-5:]\n",
        "ground_truth = []\n",
        "for i in range(len(class5_temp)):\n",
        "    a = list(class5_temp.iloc[i])\n",
        "    b = ''.join(str(i) for i in a)\n",
        "    ground_truth.append(b)"
      ],
      "metadata": {
        "id": "xOvoWqZuBdHS"
      },
      "execution_count": null,
      "outputs": []
    },
    {
      "cell_type": "code",
      "source": [
        "y_test = []\n",
        "for i in range(len(class5_temp)):\n",
        "    a = list(class5_temp.iloc[i])\n",
        "    y_test.append(np.argmax(a))"
      ],
      "metadata": {
        "id": "jugEyzMSR8Gj"
      },
      "execution_count": null,
      "outputs": []
    },
    {
      "cell_type": "markdown",
      "source": [
        "## MultiClass Classification Results"
      ],
      "metadata": {
        "id": "WkTce8v5tjAq"
      }
    },
    {
      "cell_type": "markdown",
      "source": [
        "Gloria Multiclass Classification Results"
      ],
      "metadata": {
        "id": "1IkeJ5F2Q99K"
      }
    },
    {
      "cell_type": "code",
      "source": [
        "checkpoints = '/content/drive/MyDrive/Summer_Project-ECE_697/src_code/checkpoints/model.pt'\n",
        "# get the weights from the most recent checkpoint\n",
        "model_gloria = Gloria()\n",
        "checkpoint = torch.load(checkpoints)\n",
        "model_gloria.load_state_dict(checkpoint['model_state_dict'])"
      ],
      "metadata": {
        "colab": {
          "base_uri": "https://localhost:8080/"
        },
        "id": "CX4pZ_5mBc10",
        "outputId": "df1e5354-8c9d-4ad0-c8af-b626e3ecf432"
      },
      "execution_count": null,
      "outputs": [
        {
          "output_type": "execute_result",
          "data": {
            "text/plain": [
              "<All keys matched successfully>"
            ]
          },
          "metadata": {},
          "execution_count": 80
        }
      ]
    },
    {
      "cell_type": "code",
      "source": [
        "# get a test data\n",
        "img, paths = _get_batch_tensors(data_5_classes)\n",
        "model_out = model_gloria.get_local_global_features(img)\n",
        "\n",
        "img_g = model_out[0]\n",
        "img_l = model_out[1]"
      ],
      "metadata": {
        "id": "iUd_izTXLSYn"
      },
      "execution_count": null,
      "outputs": []
    },
    {
      "cell_type": "code",
      "source": [
        "# ger the predictions of 5 classes from Gloria model\n",
        "simi = []\n",
        "y_pred = []\n",
        "for idx in range(len(img_g)):\n",
        "    sim = []\n",
        "    for cls in classes:\n",
        "        img_emb_l = img_l[idx].unsqueeze(0)\n",
        "        text_emb_l =  embed['local_embed'][cls].unsqueeze(0)\n",
        "        cap_lens = embed['cap_lens_avg'][cls]\n",
        "        img_emb_g = img_g[idx].unsqueeze(0)\n",
        "        text_emb_g = embed['global_embed'][cls].unsqueeze(0)\n",
        "\n",
        "        sim.append( similarities.get_similarities(img_emb_g, text_emb_g, img_emb_l, text_emb_l, cap_lens) )\n",
        "    id = np.argmax(sim)\n",
        "    a = [1 if i==id else 0 for i in range(len(classes))]\n",
        "    y_pred.append(np.argmax(a))\n",
        "    simi.append(b)"
      ],
      "metadata": {
        "id": "_Ddhf9E2KxUi"
      },
      "execution_count": null,
      "outputs": []
    },
    {
      "cell_type": "code",
      "source": [
        "pos = 0\n",
        "true_idx = []\n",
        "for i in range(len(ground_truth)):\n",
        "    if y_pred[i] == y_test[i]:\n",
        "        pos += 1\n",
        "        true_idx.append(i)\n",
        "\n",
        "acc= pos/len(ground_truth)*100\n",
        "print(f\"Accuracy of the multi-class {acc}%\")"
      ],
      "metadata": {
        "colab": {
          "base_uri": "https://localhost:8080/"
        },
        "id": "x0iK_hFEKxsO",
        "outputId": "cbff3746-9ad6-4a66-c8a6-f35c383e3301"
      },
      "execution_count": null,
      "outputs": [
        {
          "output_type": "stream",
          "name": "stdout",
          "text": [
            "Accuracy of the multi-class 43.29896907216495%\n"
          ]
        }
      ]
    },
    {
      "cell_type": "code",
      "source": [
        "matrix = confusion_matrix(y_test, y_pred)\n",
        "class_acc = matrix.diagonal()/matrix.sum(axis=1)*100\n",
        "for i,cls in enumerate(classes):\n",
        "    print(f\"Accuracy of {cls} is {class_acc[i]}%\")"
      ],
      "metadata": {
        "colab": {
          "base_uri": "https://localhost:8080/"
        },
        "id": "d-8xyf622OS9",
        "outputId": "bbfffc63-a223-47f0-9282-92e1ffbbedf9"
      },
      "execution_count": null,
      "outputs": [
        {
          "output_type": "stream",
          "name": "stdout",
          "text": [
            "Accuracy of Atelectasis is 45.0%\n",
            "Accuracy of Cardiomegaly is 75.0%\n",
            "Accuracy of Consolidation is 18.181818181818183%\n",
            "Accuracy of Edema is 26.31578947368421%\n",
            "Accuracy of Pleural Effusion is 26.31578947368421%\n"
          ]
        }
      ]
    },
    {
      "cell_type": "code",
      "source": [
        "import seaborn as sns\n",
        "import matplotlib.pyplot as plt\n",
        "\n",
        "plt.figure(figsize=(8,7))\n",
        "ax = sns.heatmap(matrix, annot=True, cmap='Blues')\n",
        "\n",
        "ax.set_title(' Confusion Matrix of Gloria Model on Multi-Class Classification\\n\\n');\n",
        "ax.set_xlabel('\\nPrediction')\n",
        "ax.set_ylabel('Ground Truth');\n",
        "\n",
        "## Ticket labels - List must be in alphabetical order\n",
        "ax.xaxis.set_ticklabels(classes)\n",
        "ax.yaxis.set_ticklabels(classes)\n",
        "\n",
        "## Display the visualization of the Confusion Matrix.\n",
        "plt.show()"
      ],
      "metadata": {
        "colab": {
          "base_uri": "https://localhost:8080/",
          "height": 500
        },
        "id": "Jv4lYred25T2",
        "outputId": "cd0bbe35-2efc-4ce0-9d93-e21e9b890cfc"
      },
      "execution_count": null,
      "outputs": [
        {
          "output_type": "display_data",
          "data": {
            "text/plain": [
              "<Figure size 576x504 with 2 Axes>"
            ],
            "image/png": "[encoded data removed]"
          },
          "metadata": {
            "needs_background": "light"
          }
        }
      ]
    },
    {
      "cell_type": "code",
      "source": [
        "print(classification_report(y_test, y_pred, target_names=classes))"
      ],
      "metadata": {
        "colab": {
          "base_uri": "https://localhost:8080/"
        },
        "id": "9XoANpxzSmPc",
        "outputId": "eefd0551-0af1-46d5-aacb-afd785a434e4"
      },
      "execution_count": null,
      "outputs": [
        {
          "output_type": "stream",
          "name": "stdout",
          "text": [
            "                  precision    recall  f1-score   support\n",
            "\n",
            "     Atelectasis       0.47      0.45      0.46        20\n",
            "    Cardiomegaly       0.55      0.75      0.64        28\n",
            "   Consolidation       0.13      0.18      0.15        11\n",
            "           Edema       0.42      0.26      0.32        19\n",
            "Pleural Effusion       0.38      0.26      0.31        19\n",
            "\n",
            "        accuracy                           0.43        97\n",
            "       macro avg       0.39      0.38      0.38        97\n",
            "    weighted avg       0.43      0.43      0.42        97\n",
            "\n"
          ]
        }
      ]
    },
    {
      "cell_type": "code",
      "source": [
        "\n",
        "# Compute ROC curve and ROC area for each class\n",
        "fpr = dict()\n",
        "tpr = dict()\n",
        "roc_auc = dict()\n",
        "for i in range(len(classes)):\n",
        "    a = [id == i for id in y_test]\n",
        "    y_test_i = [1 if x == True else 0 for x in a]\n",
        "\n",
        "    a = [id == i for id in y_pred]\n",
        "    y_pred_i = [1 if x == True else 0 for x in a]\n",
        "    \n",
        "    fpr[i], tpr[i], _ = roc_curve(y_test_i, y_pred_i)\n",
        "    roc_auc[i] = auc(fpr[i], tpr[i])\n",
        "\n",
        "for i,c in enumerate(classes):\n",
        "    plt.plot(fpr[i], tpr[i], label='ROC curve of class {0} (area = {1:0.2f})'.format(c, roc_auc[i]))\n",
        "\n",
        "plt.plot([0, 1], [0, 1], 'k--')\n",
        "plt.xlim([0.0, 1.0])\n",
        "plt.ylim([0.0, 1.05])\n",
        "plt.xlabel('False Positive Rate')\n",
        "plt.ylabel('True Positive Rate')\n",
        "plt.title('AUC-ROC Curve for multi-class classification')\n",
        "plt.legend(loc=\"lower right\")\n",
        "plt.show()"
      ],
      "metadata": {
        "colab": {
          "base_uri": "https://localhost:8080/",
          "height": 295
        },
        "id": "X8CFppKqX1d4",
        "outputId": "cc795a14-0061-4734-c6a9-034e4bef1a5c"
      },
      "execution_count": null,
      "outputs": [
        {
          "output_type": "display_data",
          "data": {
            "text/plain": [
              "<Figure size 432x288 with 1 Axes>"
            ],
            "image/png": "[encoded data removed]"
          },
          "metadata": {
            "needs_background": "light"
          }
        }
      ]
    },
    {
      "cell_type": "markdown",
      "source": [
        "Multi Class results for VIT and BERT Model"
      ],
      "metadata": {
        "id": "S5U86thIf-RX"
      }
    },
    {
      "cell_type": "code",
      "source": [
        "checkpoints_vit = '/content/drive/MyDrive/Summer_Project-ECE_697/src_code/checkpoints/model_vit.pt'\n",
        "model_vit = VisionTransformer()\n",
        "vit_checkpoint = torch.load(checkpoints_vit)\n",
        "model_vit.load_state_dict(vit_checkpoint['model_state_dict'])\n"
      ],
      "metadata": {
        "colab": {
          "base_uri": "https://localhost:8080/"
        },
        "id": "uI-XjsGIgDo1",
        "outputId": "9d03dd01-5923-4d60-dd38-d89b84cdcad9"
      },
      "execution_count": null,
      "outputs": [
        {
          "output_type": "execute_result",
          "data": {
            "text/plain": [
              "<All keys matched successfully>"
            ]
          },
          "metadata": {},
          "execution_count": 101
        }
      ]
    },
    {
      "cell_type": "code",
      "source": [
        "# get encoded vector by passing through the model \n",
        "vit_img = model_vit.encode(img)"
      ],
      "metadata": {
        "id": "5XXIQ1EwiO5W"
      },
      "execution_count": null,
      "outputs": []
    },
    {
      "cell_type": "code",
      "source": [
        "#and the similarities\n",
        "\n",
        "simi_vit = []\n",
        "y_pred_vit = []\n",
        "for idx in range(len(img_g)):\n",
        "    sim = []\n",
        "    for cls in classes:\n",
        "        text_emb_g = embed['global_embed'][cls].unsqueeze(0)\n",
        "        sim.append( similarities.get_global_similarities(vit_img[idx].unsqueeze(0), text_emb_g) )\n",
        "\n",
        "    id = np.argmax(sim)\n",
        "    a = [1 if i==id else 0 for i in range(len(classes))]\n",
        "    y_pred_vit.append(np.argmax(a))\n",
        "    simi_vit.append(b)\n"
      ],
      "metadata": {
        "id": "YiR9K_DVgD0S"
      },
      "execution_count": null,
      "outputs": []
    },
    {
      "cell_type": "code",
      "source": [
        "pos = 0\n",
        "true_idx = []\n",
        "for i in range(len(ground_truth)):\n",
        "    if y_pred_vit[i] == y_test[i]:\n",
        "        pos += 1\n",
        "        true_idx.append(i)\n",
        "\n",
        "acc_vit= pos/len(ground_truth)*100\n",
        "print(f\"Accuracy of the multi-class {acc_vit}%\")"
      ],
      "metadata": {
        "colab": {
          "base_uri": "https://localhost:8080/"
        },
        "id": "WqSHk4Q9hC6z",
        "outputId": "5d3b6667-bb24-4672-9403-c8579b00956b"
      },
      "execution_count": null,
      "outputs": [
        {
          "output_type": "stream",
          "name": "stdout",
          "text": [
            "Accuracy of the multi-class 26.804123711340207%\n"
          ]
        }
      ]
    },
    {
      "cell_type": "code",
      "source": [
        "print(classification_report(y_test, y_pred_vit, target_names=classes))"
      ],
      "metadata": {
        "colab": {
          "base_uri": "https://localhost:8080/"
        },
        "id": "5L4bLiCQigEv",
        "outputId": "580904cf-c794-4def-ec12-a7ee72fb3b21"
      },
      "execution_count": null,
      "outputs": [
        {
          "output_type": "stream",
          "name": "stdout",
          "text": [
            "                  precision    recall  f1-score   support\n",
            "\n",
            "     Atelectasis       0.20      0.05      0.08        20\n",
            "    Cardiomegaly       0.36      0.18      0.24        28\n",
            "   Consolidation       0.11      0.18      0.13        11\n",
            "           Edema       0.31      0.58      0.41        19\n",
            "Pleural Effusion       0.29      0.37      0.33        19\n",
            "\n",
            "        accuracy                           0.27        97\n",
            "       macro avg       0.25      0.27      0.24        97\n",
            "    weighted avg       0.27      0.27      0.24        97\n",
            "\n"
          ]
        }
      ]
    },
    {
      "cell_type": "code",
      "source": [
        "matrix = confusion_matrix(y_test, y_pred_vit)\n",
        "class_acc = matrix.diagonal()/matrix.sum(axis=1)*100\n",
        "for i,cls in enumerate(classes):\n",
        "    print(f\"Accuracy of {cls} is {class_acc[i]}%\")"
      ],
      "metadata": {
        "colab": {
          "base_uri": "https://localhost:8080/"
        },
        "id": "7vgEoK4O3mqZ",
        "outputId": "ff2538c9-19e3-4711-d661-50ef69421e3e"
      },
      "execution_count": null,
      "outputs": [
        {
          "output_type": "stream",
          "name": "stdout",
          "text": [
            "Accuracy of Atelectasis is 5.0%\n",
            "Accuracy of Cardiomegaly is 17.857142857142858%\n",
            "Accuracy of Consolidation is 18.181818181818183%\n",
            "Accuracy of Edema is 57.89473684210527%\n",
            "Accuracy of Pleural Effusion is 36.84210526315789%\n"
          ]
        }
      ]
    },
    {
      "cell_type": "code",
      "source": [
        "import seaborn as sns\n",
        "import matplotlib.pyplot as plt\n",
        "\n",
        "plt.figure(figsize=(8,7))\n",
        "ax = sns.heatmap(matrix, annot=True, cmap='Blues')\n",
        "\n",
        "ax.set_title(' Confusion Matrix of VIT-Gloria Model on Multi-Class Classification\\n\\n');\n",
        "ax.set_xlabel('\\nPrediction')\n",
        "ax.set_ylabel('Ground Truth');\n",
        "\n",
        "## Ticket labels - List must be in alphabetical order\n",
        "ax.xaxis.set_ticklabels(classes)\n",
        "ax.yaxis.set_ticklabels(classes)\n",
        "\n",
        "## Display the visualization of the Confusion Matrix.\n",
        "plt.show()"
      ],
      "metadata": {
        "colab": {
          "base_uri": "https://localhost:8080/",
          "height": 500
        },
        "id": "vswwYz3a4MBo",
        "outputId": "60f90415-1da3-4f3d-c4b2-54f225e5ac1d"
      },
      "execution_count": null,
      "outputs": [
        {
          "output_type": "display_data",
          "data": {
            "text/plain": [
              "<Figure size 576x504 with 2 Axes>"
            ],
            "image/png": "[encoded data removed]"
          },
          "metadata": {
            "needs_background": "light"
          }
        }
      ]
    },
    {
      "cell_type": "code",
      "source": [
        "\n",
        "# Compute ROC curve and ROC area for each class\n",
        "fpr = dict()\n",
        "tpr = dict()\n",
        "roc_auc = dict()\n",
        "for i in range(len(classes)):\n",
        "    a = [id == i for id in y_test]\n",
        "    y_test_i = [1 if x == True else 0 for x in a]\n",
        "\n",
        "    a = [id == i for id in y_pred_vit]\n",
        "    y_pred_vit_i = [1 if x == True else 0 for x in a]\n",
        "    \n",
        "    fpr[i], tpr[i], _ = roc_curve(y_test_i, y_pred_vit_i)\n",
        "    roc_auc[i] = auc(fpr[i], tpr[i])\n",
        "\n",
        "for i,c in enumerate(classes):\n",
        "    plt.plot(fpr[i], tpr[i], label='ROC curve of class {0} (area = {1:0.2f})'.format(c, roc_auc[i]))\n",
        "\n",
        "plt.plot([0, 1], [0, 1], 'k--')\n",
        "plt.xlim([0.0, 1.0])\n",
        "plt.ylim([0.0, 1.05])\n",
        "plt.xlabel('False Positive Rate')\n",
        "plt.ylabel('True Positive Rate')\n",
        "plt.title('AUC-ROC Curve for multi-class classification')\n",
        "plt.legend(loc=\"lower right\")\n",
        "plt.show()"
      ],
      "metadata": {
        "colab": {
          "base_uri": "https://localhost:8080/",
          "height": 295
        },
        "id": "iaHeJULGimx7",
        "outputId": "c20f8ed4-17e0-4f93-cd17-ea75b6a618aa"
      },
      "execution_count": null,
      "outputs": [
        {
          "output_type": "display_data",
          "data": {
            "text/plain": [
              "<Figure size 432x288 with 1 Axes>"
            ],
            "image/png": "[encoded data removed]"
          },
          "metadata": {
            "needs_background": "light"
          }
        }
      ]
    },
    {
      "cell_type": "markdown",
      "source": [
        "## Binary Classification Results"
      ],
      "metadata": {
        "id": "y3dM715EtpUW"
      }
    },
    {
      "cell_type": "markdown",
      "metadata": {
        "id": "4nH_eNtSXJtG"
      },
      "source": [
        "Get global and local prompt embeddings for Pneumonia"
      ]
    },
    {
      "cell_type": "code",
      "execution_count": null,
      "metadata": {
        "id": "q9P0s_Q_V3jM"
      },
      "outputs": [],
      "source": [
        "text_emb_l = embed['local_embed']['Pneumonia']\n",
        "text_emb_g = embed['global_embed']['Pneumonia']\n",
        "cap_lens = embed['cap_lens_avg']['Pneumonia']"
      ]
    },
    {
      "cell_type": "markdown",
      "metadata": {
        "id": "cYC_uGuXXTfp"
      },
      "source": [
        "Import the binary classification dataset"
      ]
    },
    {
      "cell_type": "code",
      "execution_count": null,
      "metadata": {
        "id": "95mXKQwJXQVl"
      },
      "outputs": [],
      "source": [
        "binary_csv = '/content/drive/MyDrive/Summer_Project-ECE_697/src_code/Inference/Bin_class_data.csv'\n",
        "binary_classification_df = pd.read_csv(binary_csv)\n",
        "ground_truth = list(binary_classification_df['Pneumonia'])"
      ]
    },
    {
      "cell_type": "markdown",
      "metadata": {
        "id": "VSaPkM9QXfR0"
      },
      "source": [
        "Import Gloria Model and the latest checkpoint for loading the trained model weights"
      ]
    },
    {
      "cell_type": "code",
      "execution_count": null,
      "metadata": {
        "colab": {
          "base_uri": "https://localhost:8080/"
        },
        "id": "5grg6ywlXeDT",
        "outputId": "78ed2183-86cc-4a14-b059-dcbf2af7cfa3"
      },
      "outputs": [
        {
          "output_type": "execute_result",
          "data": {
            "text/plain": [
              "<All keys matched successfully>"
            ]
          },
          "metadata": {},
          "execution_count": 7
        }
      ],
      "source": [
        "checkpoints = '/content/drive/MyDrive/Summer_Project-ECE_697/src_code/checkpoints/model.pt'\n",
        "# get the weights from the most recent checkpoint\n",
        "model_gloria = Gloria()\n",
        "checkpoint = torch.load(checkpoints)\n",
        "model_gloria.load_state_dict(checkpoint['model_state_dict'])"
      ]
    },
    {
      "cell_type": "markdown",
      "metadata": {
        "id": "wxN5-KnTX0Jx"
      },
      "source": [
        "Read the input files and pass through the trained model to get the embeddings"
      ]
    },
    {
      "cell_type": "code",
      "execution_count": null,
      "metadata": {
        "id": "KAZ1-KdmXoX2"
      },
      "outputs": [],
      "source": [
        "# get a test data embeddings\n",
        "\n",
        "img, paths = _get_batch_tensors(binary_classification_df)\n",
        "model_out = model_gloria.get_local_global_features(img)\n",
        "\n",
        "img_g = model_out[0]\n",
        "img_l = model_out[1]"
      ]
    },
    {
      "cell_type": "markdown",
      "metadata": {
        "id": "DwRYZOJJbiPJ"
      },
      "source": [
        "Get the similarity scores and threashold is set at 1 for ikdentifying the presence of Pneumonia"
      ]
    },
    {
      "cell_type": "code",
      "execution_count": null,
      "metadata": {
        "id": "vMN3ihTRYGOh"
      },
      "outputs": [],
      "source": [
        "sim = []\n",
        "for idx in range(len(img_g)):\n",
        "    sim.append( similarities.get_similarities(img_g[idx].unsqueeze(0), text_emb_g.unsqueeze(0), img_l[idx].unsqueeze(0), text_emb_l.unsqueeze(0), cap_lens) )\n",
        "\n",
        "threshold = 0.7\n",
        "similarity = [int(sim[i]>threshold) for  i in range(len(sim))]"
      ]
    },
    {
      "cell_type": "code",
      "execution_count": null,
      "metadata": {
        "colab": {
          "base_uri": "https://localhost:8080/"
        },
        "id": "VJCQ0oLPb10z",
        "outputId": "8288ce55-8bcb-4366-bbe1-82164ac8f868"
      },
      "outputs": [
        {
          "output_type": "stream",
          "name": "stdout",
          "text": [
            "Accuracy of Gloria Model for Binary Classification :  68.66666666666667 %\n"
          ]
        }
      ],
      "source": [
        "pos = 0\n",
        "for i in range(len(sim)):\n",
        "    if similarity[i] == ground_truth[i]:\n",
        "        pos += 1\n",
        "acc = (pos/len(similarity))*100\n",
        "print('Accuracy of Gloria Model for Binary Classification : ', acc,'%')"
      ]
    },
    {
      "cell_type": "code",
      "execution_count": null,
      "metadata": {
        "colab": {
          "base_uri": "https://localhost:8080/"
        },
        "id": "uCN2GS3Eg3bv",
        "outputId": "c7305d95-0562-486d-bbb8-bfc787607cc0"
      },
      "outputs": [
        {
          "output_type": "stream",
          "name": "stdout",
          "text": [
            "[[ 95  55]\n",
            " [ 39 111]]\n"
          ]
        }
      ],
      "source": [
        "cf_matrix = confusion_matrix(ground_truth, similarity)\n",
        "\n",
        "print(cf_matrix)"
      ]
    },
    {
      "cell_type": "code",
      "execution_count": null,
      "metadata": {
        "colab": {
          "base_uri": "https://localhost:8080/",
          "height": 337
        },
        "id": "iAUa3J9_iykr",
        "outputId": "eede4b70-d37b-4f3f-97bf-80331a787502"
      },
      "outputs": [
        {
          "output_type": "display_data",
          "data": {
            "text/plain": [
              "<Figure size 432x288 with 2 Axes>"
            ],
            "image/png": "[encoded data removed]"
          },
          "metadata": {
            "needs_background": "light"
          }
        }
      ],
      "source": [
        "import seaborn as sns\n",
        "import matplotlib.pyplot as plt\n",
        "\n",
        "ax = sns.heatmap(cf_matrix, annot=True, cmap='Blues')\n",
        "\n",
        "ax.set_title(' Confusion Matrix of Gloria Model on Pneumonia Binary Classification\\n\\n');\n",
        "ax.set_xlabel('\\nPrediction')\n",
        "ax.set_ylabel('Ground Truth');\n",
        "\n",
        "## Ticket labels - List must be in alphabetical order\n",
        "ax.xaxis.set_ticklabels(['Positive','Negative'])\n",
        "ax.yaxis.set_ticklabels(['True','False'])\n",
        "\n",
        "## Display the visualization of the Confusion Matrix.\n",
        "plt.show()"
      ]
    },
    {
      "cell_type": "markdown",
      "metadata": {
        "id": "VdXWPFBJdP3P"
      },
      "source": [
        "Repeat the same process for VIT Model to get the accuracy of the binary classification task"
      ]
    },
    {
      "cell_type": "code",
      "execution_count": null,
      "metadata": {
        "id": "JneXtnYacPcE"
      },
      "outputs": [],
      "source": [
        "checkpoints_vit = '/content/drive/MyDrive/Summer_Project-ECE_697/src_code/checkpoints/model_vit.pt'\n",
        "model_vit = VisionTransformer()\n",
        "vit_checkpoint = torch.load(checkpoints_vit)\n",
        "model_vit.load_state_dict(vit_checkpoint['model_state_dict'])\n",
        "\n",
        "vit_img = model_vit.encode(img)"
      ]
    },
    {
      "cell_type": "code",
      "execution_count": null,
      "metadata": {
        "id": "j2DdGHgFdINv"
      },
      "outputs": [],
      "source": [
        "sim_vit = []\n",
        "for idx in range(len(vit_img)):\n",
        "    sim_vit.append( similarities.get_global_similarities(vit_img[idx].unsqueeze(0), text_emb_g.unsqueeze(0)) )\n",
        "\n",
        "threshold = -0.008\n",
        "similarity_vit = [int(sim_vit[i]>threshold) for  i in range(len(sim_vit))]"
      ]
    },
    {
      "cell_type": "code",
      "execution_count": null,
      "metadata": {
        "colab": {
          "base_uri": "https://localhost:8080/"
        },
        "id": "nRpR2TXTfl3H",
        "outputId": "d0a93b02-6ff2-496b-a980-a79b168b5368"
      },
      "outputs": [
        {
          "output_type": "stream",
          "name": "stdout",
          "text": [
            "Accuracy of VIT Model for Binary Classification :  46.33333333333333 %\n"
          ]
        }
      ],
      "source": [
        "pos_vit = 0\n",
        "for i in range(len(sim_vit)):\n",
        "    if similarity_vit[i] == ground_truth[i]:\n",
        "        pos_vit += 1\n",
        "acc_vit = (pos_vit/len(similarity_vit))*100\n",
        "print('Accuracy of VIT Model for Binary Classification : ', acc_vit,'%')"
      ]
    },
    {
      "cell_type": "code",
      "execution_count": null,
      "metadata": {
        "colab": {
          "base_uri": "https://localhost:8080/"
        },
        "id": "Yct4T4r9fzvS",
        "outputId": "dbe89b90-fa45-480d-d4b5-2ff70379f5c5"
      },
      "outputs": [
        {
          "output_type": "stream",
          "name": "stdout",
          "text": [
            "[[59 91]\n",
            " [70 80]]\n"
          ]
        }
      ],
      "source": [
        "cf_matrix = confusion_matrix(ground_truth, similarity_vit)\n",
        "\n",
        "print(cf_matrix)"
      ]
    },
    {
      "cell_type": "code",
      "execution_count": null,
      "metadata": {
        "colab": {
          "base_uri": "https://localhost:8080/",
          "height": 337
        },
        "id": "88hzKFNLgwPp",
        "outputId": "4b0de26b-0bac-4123-f31b-8ce8ee77e917"
      },
      "outputs": [
        {
          "output_type": "display_data",
          "data": {
            "text/plain": [
              "<Figure size 432x288 with 2 Axes>"
            ],
            "image/png": "[encoded data removed]"
          },
          "metadata": {
            "needs_background": "light"
          }
        }
      ],
      "source": [
        "ax = sns.heatmap(cf_matrix, annot=True, cmap='Blues')\n",
        "\n",
        "ax.set_title(' Confusion Matrix of VIT-Global features Model on Pneumonia Binary Classification\\n\\n');\n",
        "ax.set_xlabel('\\nPrediction')\n",
        "ax.set_ylabel('Ground Truth');\n",
        "\n",
        "ax.xaxis.set_ticklabels(['Positive','Negative'])\n",
        "ax.yaxis.set_ticklabels(['True','False'])\n",
        "\n",
        "plt.show()"
      ]
    },
    {
      "cell_type": "code",
      "execution_count": null,
      "metadata": {
        "id": "igpam5s6jV3g"
      },
      "outputs": [],
      "source": []
    }
  ],
  "metadata": {
    "colab": {
      "machine_shape": "hm",
      "name": "Inference_time.ipynb",
      "provenance": [],
      "collapsed_sections": [],
      "include_colab_link": true
    },
    "gpuClass": "standard",
    "kernelspec": {
      "display_name": "Python 3",
      "name": "python3"
    },
    "language_info": {
      "name": "python"
    },
    "accelerator": "GPU"
  },
  "nbformat": 4,
  "nbformat_minor": 0
}